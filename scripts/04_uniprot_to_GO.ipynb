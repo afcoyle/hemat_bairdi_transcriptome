{
 "cells": [
  {
   "cell_type": "markdown",
   "metadata": {},
   "source": [
    "Aidan Coyle, afcoyle@uw.edu\n",
    "\n",
    "2021/01/20\n",
    "\n",
    "Roberts lab at SAFS\n",
    "\n",
    "### Turning UniProt accessions into GO terms\n",
    "\n",
    "This script involves calling a Bash script that Sam wrote. That script is available [here](https://github.com/RobertsLab/code/blob/master/script-box/uniprot2go.sh). I copied it into my /scripts/ directory, where it's named 05_uniprot2go.sh\n",
    "\n",
    "05_uniprot2go.sh takes a newline-separated file of UniProt accessions, and outputs a file in the following format: UniProt_accession tab GOID1;GOID2...GOIDn"
   ]
  },
  {
   "cell_type": "code",
   "execution_count": 1,
   "metadata": {},
   "outputs": [
    {
     "data": {
      "text/plain": [
       "'/mnt/c/Users/acoyl/Documents/GitHub/hemat_bairdii_transcriptome/scripts'"
      ]
     },
     "execution_count": 1,
     "metadata": {},
     "output_type": "execute_result"
    }
   ],
   "source": [
    "pwd"
   ]
  },
  {
   "cell_type": "markdown",
   "metadata": {},
   "source": [
    "### First, we'll get all accession IDs for all genes. This will take a long time - on a laptop, takes 1-2 days to run each"
   ]
  },
  {
   "cell_type": "code",
   "execution_count": 4,
   "metadata": {},
   "outputs": [
    {
     "name": "stdout",
     "output_type": "stream",
     "text": [
      "6 accessions were not processed.\n",
      "Please see: failed_accessions.txt\n"
     ]
    }
   ],
   "source": [
    "# Get all accession IDs for all genes in ambient vs. low treatment group\n",
    "!./05_uniprot2go.sh ../output/accession_n_GOids/allgenes_IDs/Amb_vsLow_All_GeneIDs.txt > ../output/accession_n_GOids/allgenes_IDs/Amb_vsLow_All_GOIDs.txt"
   ]
  },
  {
   "cell_type": "code",
   "execution_count": null,
   "metadata": {},
   "outputs": [],
   "source": [
    "# A file called failed_accessions.txt is auto-placed in the directory you run the script from. Move to the output folder\n",
    "!mv failed_accessions.txt ../output/accession_n_GOids/allgenes_IDs/Amb_vsLow_AllGOIDs_failed_accessions.txt"
   ]
  },
  {
   "cell_type": "code",
   "execution_count": 12,
   "metadata": {},
   "outputs": [
    {
     "name": "stdout",
     "output_type": "stream",
     "text": [
      "3 accessions were not processed.\n",
      "Please see: failed_accessions.txt\n"
     ]
    }
   ],
   "source": [
    "# Get all accession IDs for all genes in day 0 vs. day 17 ambient treatment group\n",
    "!./05_uniprot2go.sh ../output/accession_n_GOids/allgenes_IDs/day0_day17_All_GeneIDs.txt > ../output/accession_n_GOids/allgenes_IDs/day0_day17_All_GOIDs.txt"
   ]
  },
  {
   "cell_type": "code",
   "execution_count": null,
   "metadata": {},
   "outputs": [],
   "source": [
    "# A file called failed_accessions.txt is auto-placed in the directory you run the script from. Move to the output folder\n",
    "!mv failed_accessions.txt ../output/accession_n_GOids/allgenes_IDs/day0_day17_AllGOIDs_failed_accessions.txt"
   ]
  },
  {
   "cell_type": "code",
   "execution_count": 1,
   "metadata": {},
   "outputs": [
    {
     "name": "stdout",
     "output_type": "stream",
     "text": [
      "5 accessions were not processed.\n",
      "Please see: failed_accessions.txt\n"
     ]
    }
   ],
   "source": [
    "# Get all accession IDs for all genes in elevated vs. ambient treatment group\n",
    "!./05_uniprot2go.sh ../output/accession_n_GOids/allgenes_IDs/Elev_vsAmb_All_GeneIDs.txt > ../output/accession_n_GOids/allgenes_IDs/Elev_vsAmb_All_GOIDs.txt"
   ]
  },
  {
   "cell_type": "code",
   "execution_count": null,
   "metadata": {},
   "outputs": [],
   "source": [
    "# A file called failed_accessions.txt is auto-placed in the directory you run the script from. Move to the output folder\n",
    "!mv failed_accessions.txt ../output/accession_n_GOids/allgenes_IDs/Elev_vsAmb_AllGOIDs_failed_accessions.txt"
   ]
  },
  {
   "cell_type": "code",
   "execution_count": 5,
   "metadata": {},
   "outputs": [
    {
     "name": "stdout",
     "output_type": "stream",
     "text": [
      "4 accessions were not processed.\n",
      "Please see: failed_accessions.txt\n"
     ]
    }
   ],
   "source": [
    "# Get all accession IDs for all genes in elevated vs. low treatment group\n",
    "!./05_uniprot2go.sh ../output/accession_n_GOids/allgenes_IDs/Elev_vsLow_All_GeneIDs.txt > ../output/accession_n_GOids/allgenes_IDs/Elev_vsLow_All_GOIDs.txt"
   ]
  },
  {
   "cell_type": "code",
   "execution_count": 6,
   "metadata": {},
   "outputs": [],
   "source": [
    "# A file called failed_accessions.txt is auto-placed in the directory you run the script from. Move to the output folder\n",
    "!mv failed_accessions.txt ../output/accession_n_GOids/allgenes_IDs/Elev_vsLow_AllGOIDs_failed_accessions.txt"
   ]
  },
  {
   "cell_type": "markdown",
   "metadata": {},
   "source": [
    "### Then, we get all accession IDs for only differentially-expressed genes (padj <= 0.005)"
   ]
  },
  {
   "cell_type": "code",
   "execution_count": 1,
   "metadata": {},
   "outputs": [],
   "source": [
    "# Get all accession IDs for all genes in ambient vs. low treatment group\n",
    "!./05_uniprot2go.sh ../output/accession_n_GOids/DEG_IDs/Amb_vsLow_DEG_IDs.txt > ../output/accession_n_GOids/DEG_IDs/Amb_vsLow_DEG_GOIDs.txt"
   ]
  },
  {
   "cell_type": "code",
   "execution_count": 2,
   "metadata": {},
   "outputs": [],
   "source": [
    "# Get all accession IDs for all genes in ambient vs. low treatment group\n",
    "!./05_uniprot2go.sh ../output/accession_n_GOids/DEG_IDs/day0_day17_amb_DEG_IDs.txt > ../output/accession_n_GOids/DEG_IDs/day0_day17_amb_DEG_GOIDs.txt"
   ]
  },
  {
   "cell_type": "code",
   "execution_count": 3,
   "metadata": {},
   "outputs": [],
   "source": [
    "# Get all accession IDs for all genes in ambient vs. low treatment group\n",
    "!./05_uniprot2go.sh ../output/accession_n_GOids/DEG_IDs/Elev_vsAmb_DEG_IDs.txt > ../output/accession_n_GOids/DEG_IDs/Elev_vsAmb_DEG_GOIDs.txt"
   ]
  },
  {
   "cell_type": "code",
   "execution_count": 4,
   "metadata": {},
   "outputs": [],
   "source": [
    "# Get all accession IDs for all genes in ambient vs. low treatment group\n",
    "!./05_uniprot2go.sh ../output/accession_n_GOids/DEG_IDs/Elev_vsLow_DEG_IDs.txt > ../output/accession_n_GOids/DEG_IDs/Elev_vsLow_DEG_GOIDs.txt"
   ]
  },
  {
   "cell_type": "markdown",
   "metadata": {},
   "source": [
    "### Completed getting all our GO terms! Now, time to get input for GO-MWU.\n",
    "We need 2 tables:\n",
    "- A 2-column table of genes and GO terms\n",
    "- A 2-column table of genes and unadjusted p-value"
   ]
  },
  {
   "cell_type": "markdown",
   "metadata": {},
   "source": [
    "We'll be doing most of this in R, but first we'll make a directory"
   ]
  },
  {
   "cell_type": "code",
   "execution_count": 7,
   "metadata": {},
   "outputs": [],
   "source": [
    "!mkdir ../output/input_for_GO-MWU"
   ]
  }
 ],
 "metadata": {
  "kernelspec": {
   "display_name": "Python 3",
   "language": "python",
   "name": "python3"
  },
  "language_info": {
   "codemirror_mode": {
    "name": "ipython",
    "version": 3
   },
   "file_extension": ".py",
   "mimetype": "text/x-python",
   "name": "python",
   "nbconvert_exporter": "python",
   "pygments_lexer": "ipython3",
   "version": "3.8.3"
  }
 },
 "nbformat": 4,
 "nbformat_minor": 4
}
