{
 "cells": [
  {
   "cell_type": "markdown",
   "metadata": {},
   "source": [
    "Aidan Coyle, afcoyle@uw.edu\n",
    "\n",
    "2021/01/20\n",
    "\n",
    "Roberts lab at SAFS\n",
    "\n",
    "This script involves calling a Bash script that Sam wrote. That script is available [here](https://github.com/RobertsLab/code/blob/master/script-box/uniprot2go.sh). I copied it into my /scripts/ directory, where it's named 05_uniprot2go.sh\n",
    "\n",
    "05_uniprot2go.sh takes a newline-separated file of UniProt accessions, and outputs a file in the following format: UniProt_accession tab GOID1;GOID2...GOIDn"
   ]
  },
  {
   "cell_type": "code",
   "execution_count": 1,
   "metadata": {},
   "outputs": [
    {
     "data": {
      "text/plain": [
       "'/mnt/c/Users/acoyl/Documents/GitHub/hemat_bairdii_transcriptome/scripts'"
      ]
     },
     "execution_count": 1,
     "metadata": {},
     "output_type": "execute_result"
    }
   ],
   "source": [
    "pwd"
   ]
  },
  {
   "cell_type": "code",
   "execution_count": 4,
   "metadata": {},
   "outputs": [
    {
     "name": "stdout",
     "output_type": "stream",
     "text": [
      "6 accessions were not processed.\r\n",
      "Please see: failed_accessions.txt\r\n"
     ]
    }
   ],
   "source": [
    "# Get all accession IDs for all genes in ambient vs. low treatment group\n",
    "!./05_uniprot2go.sh ../output/accession_n_GOids/allgenes_IDs/Amb_vsLow_All_GeneIDs.txt > ../output/accession_n_GOids/allgenes_IDs/Amb_vsLow_All_GOIDs.txt"
   ]
  },
  {
   "cell_type": "code",
   "execution_count": null,
   "metadata": {},
   "outputs": [],
   "source": [
    "!mv failed_accessions.txt ../output/accession_n_GOids/allgenes_IDs/Amb_vsLow_AllGOIDs_failed_accessions"
   ]
  },
  {
   "cell_type": "code",
   "execution_count": 12,
   "metadata": {},
   "outputs": [
    {
     "name": "stdout",
     "output_type": "stream",
     "text": [
      "3 accessions were not processed.\r\n",
      "Please see: failed_accessions.txt\r\n"
     ]
    }
   ],
   "source": [
    "!./05_uniprot2go.sh ../output/accession_n_GOids/allgenes_IDs/day0_day17_All_GeneIDs.txt > ../output/accession_n_GOids/allgenes_IDs/day0_day17_All_GOIDs.txt"
   ]
  },
  {
   "cell_type": "code",
   "execution_count": null,
   "metadata": {},
   "outputs": [],
   "source": [
    "!mv failed_accessions.txt ../output/accession_n_GOids/allgenes_IDs/day0_day17_AllGOIDs_failed_accessions"
   ]
  },
  {
   "cell_type": "code",
   "execution_count": 1,
   "metadata": {},
   "outputs": [
    {
     "name": "stdout",
     "output_type": "stream",
     "text": [
      "5 accessions were not processed.\r\n",
      "Please see: failed_accessions.txt\r\n"
     ]
    }
   ],
   "source": [
    "!./05_uniprot2go.sh ../output/accession_n_GOids/allgenes_IDs/Elev_vsAmb_All_GeneIDs.txt > ../output/accession_n_GOids/allgenes_IDs/Elev_vsAmb_All_GOIDs.txt"
   ]
  }
 ],
 "metadata": {
  "kernelspec": {
   "display_name": "Python 3",
   "language": "python",
   "name": "python3"
  },
  "language_info": {
   "codemirror_mode": {
    "name": "ipython",
    "version": 3
   },
   "file_extension": ".py",
   "mimetype": "text/x-python",
   "name": "python",
   "nbconvert_exporter": "python",
   "pygments_lexer": "ipython3",
   "version": "3.8.3"
  }
 },
 "nbformat": 4,
 "nbformat_minor": 4
}
