{
 "cells": [
  {
   "cell_type": "markdown",
   "metadata": {},
   "source": [
    "## This is a practice BLAST on Mox.\n",
    "\n",
    "Aidan Coyle, afcoyle@uw.edu\n",
    "\n",
    "Roberts Lab, UW-SAFS\n",
    "\n",
    "We will BLAST our .fasta file of differentially-expressed transcripts for Ambient Day 2 vs. Elevated Day 2, available [here](https://github.com/afcoyle/hemat_bairdii_transcriptome/blob/main/output/BLASTn/alveolata/amb2_vs_elev2_indiv_DEGs.fasta),  against the already-created transcriptome of all Alveolata sequences created by Sam, available [here](https://gannet.fish.washington.edu/Atumefaciens/20200605_cbai_v2.0_v3.0_megan_seq_extractions/cbai_transcriptome_v2.1.fasta)\n",
    "\n",
    "Since we're running this on Mox, all commands are copied and pasted"
   ]
  },
  {
   "cell_type": "code",
   "execution_count": null,
   "metadata": {},
   "outputs": [],
   "source": [
    "# Download existing transcriptome\n",
    "curl -o data/alveolata_transcriptome_v2.0.fasta -k https://gannet.fish.washington.edu/Atumefaciens/20200605_cbai_v2.0_v3.0_megan_seq_extractions/cbai_transcriptome_v2.1.fasta"
   ]
  },
  {
   "cell_type": "code",
   "execution_count": null,
   "metadata": {},
   "outputs": [],
   "source": [
    "# Download .fasta file\n",
    "curl -o data/amb2_vs_elev2_indiv_DEGs.fasta -k https://github.com/afcoyle/hemat_bairdii_transcriptome/blob/main/output/BLASTn/alveolata/amb2_vs_elev2_indiv_DEGs.fasta"
   ]
  },
  {
   "cell_type": "code",
   "execution_count": 1,
   "metadata": {},
   "outputs": [
    {
     "name": "stdout",
     "output_type": "stream",
     "text": [
      "3b4a63aa0edc71424eac99d69744f164  ../output/BLASTn/alveolata/amb2_vs_elev2_indiv_DEGs.fasta\n"
     ]
    }
   ],
   "source": [
    "# Create database for existing transcriptome\n",
    "# Should I have done this in slurm script?\n",
    "/gscratch/srlab/programs/ncbi-blast-2.8.1+/bin/makeblastdb \\\n",
    "-in data/alveolata_transcriptome_v2.0.fasta  \\\n",
    "-dbtype nucl \\\n",
    "-parse_seqids \\\n",
    "-out output/alveolata_blastdb"
   ]
  },
  {
   "cell_type": "code",
   "execution_count": null,
   "metadata": {},
   "outputs": [],
   "source": []
  }
 ],
 "metadata": {
  "kernelspec": {
   "display_name": "Python 3",
   "language": "python",
   "name": "python3"
  },
  "language_info": {
   "codemirror_mode": {
    "name": "ipython",
    "version": 3
   },
   "file_extension": ".py",
   "mimetype": "text/x-python",
   "name": "python",
   "nbconvert_exporter": "python",
   "pygments_lexer": "ipython3",
   "version": "3.8.3"
  }
 },
 "nbformat": 4,
 "nbformat_minor": 4
}
