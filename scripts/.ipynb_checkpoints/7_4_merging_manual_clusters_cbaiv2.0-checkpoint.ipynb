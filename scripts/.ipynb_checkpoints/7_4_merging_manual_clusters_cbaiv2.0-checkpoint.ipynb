{
 "cells": [
  {
   "cell_type": "markdown",
   "metadata": {},
   "source": [
    "Aidan Coyle\n",
    "\n",
    "afcoyle@uw.edu\n",
    "\n",
    "2021-07-01\n",
    "\n",
    "Roberts Lab, UW-SAFS"
   ]
  },
  {
   "cell_type": "markdown",
   "metadata": {},
   "source": [
    "In script 7_1_manual_clustering_cbaiv2.0.Rmd, we took libraries aligned to an unfiltered transcriptome (cbai_transcriptomev2.0), grouped them according to crab (e.g. took all libraries for Crab A, B, C...) and clustered gene expression into modules based on expression patterns\n",
    "\n",
    "We then described the expression patterns of each module as following one of five patterns. Crabs with three time points (ambient- and lowered-temperature treatment crab) had the following notation used:\n",
    "\n",
    "- High to low (HTL): Expression decreases over time (regardless of whether the decrease took place on Day 2 or Day 17)\n",
    "\n",
    "- Low to high (LTH): Expression increases over time (regardless of whether the increase took place on Day 2 or Day 17)\n",
    "\n",
    "- Low High Low (LHL): Expression increases on Day 2, and then drops on Day 17\n",
    "\n",
    "- High Low High (HLH): Expression drops on Day 2 and then increases on Day 17\n",
    "\n",
    "- Mixed (MIX): Expression within the module follows no clear pattern\n",
    "\n",
    "Crabs in the Elevated-temperature treatment group had only two time points (crabs G, H, and I). For these, a different notation was used. \n",
    "\n",
    "- LL = expression stays low\n",
    "\n",
    "- HH = expression stays high\n",
    "\n",
    "- LH = expression goes from low to high\n",
    "\n",
    "- HL = expression goes from high to low\n",
    "\n",
    "- MIX = mixed - no clear pattern of expression within the module"
   ]
  },
  {
   "cell_type": "markdown",
   "metadata": {},
   "source": [
    "Importantly, **multiple modules within a single crab could be given the same assignment**. This issue is what this script is meant to solve by merging gene lists."
   ]
  },
  {
   "cell_type": "markdown",
   "metadata": {},
   "source": [
    "First, let's see an example of one crab"
   ]
  },
  {
   "cell_type": "code",
   "execution_count": 3,
   "metadata": {},
   "outputs": [
    {
     "name": "stdout",
     "output_type": "stream",
     "text": [
      "cluster_HLH.txt\t\t  cluster_HTL_heatmap.png  cluster_LTH2_heatmap.png\n",
      "cluster_HLH_heatmap.png   cluster_LHL.txt\t   cluster_LTH_heatmap.png\n",
      "cluster_HTL.txt\t\t  cluster_LHL_heatmap.png  heatmap.png\n",
      "cluster_HTL2.txt\t  cluster_LTH.txt\t   manual_clustnums\n",
      "cluster_HTL2_heatmap.png  cluster_LTH2.txt\n"
     ]
    }
   ],
   "source": [
    "!ls ../output/manual_clustering/cbai_transcriptomev2.0/Crab_A/"
   ]
  },
  {
   "cell_type": "markdown",
   "metadata": {},
   "source": [
    "And let's also see what each cluster looks like"
   ]
  },
  {
   "cell_type": "code",
   "execution_count": 67,
   "metadata": {},
   "outputs": [
    {
     "name": "stdout",
     "output_type": "stream",
     "text": [
      "\"id178_TPM\"\t\"id359_TPM\"\t\"id463_TPM\"\n",
      "\"TRINITY_DN37855_c0_g2_i5\"\t6.35658\t2.21325\t4.62032\n",
      "\"TRINITY_DN30_c1_g1_i2\"\t1.94552\t0.49167\t2.98556\n",
      "\"TRINITY_DN3_c25_g1_i44\"\t2.73222\t1.77644\t2.41125\n",
      "\"TRINITY_DN3828_c0_g1_i5\"\t4.37025\t0.981635\t6.81371\n",
      "\"TRINITY_DN27933_c0_g1_i1\"\t4.26297\t2.75102\t3.72238\n",
      "\"TRINITY_DN44127_c2_g1_i1\"\t5.7006\t1.23889\t7.34844\n",
      "\"TRINITY_DN446_c0_g1_i9\"\t3.68282\t0.0352637\t2.5099\n",
      "\"TRINITY_DN460_c8_g1_i2\"\t3.23436\t0.531883\t2.62204\n",
      "\"TRINITY_DN1172_c38_g3_i3\"\t7.18434\t1.4249\t7.88532\n"
     ]
    }
   ],
   "source": [
    "!head ../output/manual_clustering/cbai_transcriptomev2.0/Crab_A/cluster_HLH.txt"
   ]
  },
  {
   "cell_type": "markdown",
   "metadata": {},
   "source": [
    "Looks like we need to remove the first line of each file - otherwise, when we merge modules, the header line will be included. And since columns correspond to days 0, 2, and 17 samples, it's not too meaningful\n",
    "\n",
    "Now, let's see how many crab folders we have"
   ]
  },
  {
   "cell_type": "code",
   "execution_count": 4,
   "metadata": {},
   "outputs": [
    {
     "name": "stdout",
     "output_type": "stream",
     "text": [
      "Crab_A\tCrab_B\tCrab_C\tCrab_E\tCrab_G\tCrab_H\tCrab_I\n"
     ]
    }
   ],
   "source": [
    "!ls ../output/manual_clustering/cbai_transcriptomev2.0/"
   ]
  },
  {
   "cell_type": "markdown",
   "metadata": {},
   "source": [
    "Looks good! We can move on."
   ]
  },
  {
   "cell_type": "markdown",
   "metadata": {},
   "source": [
    "## Crab A\n",
    "\n",
    "We'll now start on merging all modules for Crab A\n",
    "\n",
    "Let's take another look at the current modules for Crab A"
   ]
  },
  {
   "cell_type": "code",
   "execution_count": 90,
   "metadata": {},
   "outputs": [
    {
     "name": "stdout",
     "output_type": "stream",
     "text": [
      "cluster_HLH.txt\t\t  cluster_HTL_heatmap.png  cluster_LTH2_heatmap.png\n",
      "cluster_HLH_heatmap.png   cluster_LHL.txt\t   cluster_LTH_heatmap.png\n",
      "cluster_HTL.txt\t\t  cluster_LHL_heatmap.png  heatmap.png\n",
      "cluster_HTL2.txt\t  cluster_LTH.txt\t   manual_clustnums\n",
      "cluster_HTL2_heatmap.png  cluster_LTH2.txt\n"
     ]
    }
   ],
   "source": [
    "!ls ../output/manual_clustering/cbai_transcriptomev2.0/Crab_A/"
   ]
  },
  {
   "cell_type": "code",
   "execution_count": 91,
   "metadata": {},
   "outputs": [],
   "source": [
    "# Make new directory for merged modules\n",
    "!mkdir ../output/manual_clustering/cbai_transcriptomev2.0/Crab_A/merged_modules\n",
    "\n",
    "# Merge all HTL modules\n",
    "!find ../output/manual_clustering/cbai_transcriptomev2.0/Crab_A -maxdepth 1 -name cluster_HTL*txt | xargs -n 1 tail -n +2 > ../output/manual_clustering/cbai_transcriptomev2.0/Crab_A/merged_modules/HTL_merged.txt\n",
    "\n",
    "# Merge all LTH modules\n",
    "!find ../output/manual_clustering/cbai_transcriptomev2.0/Crab_A -maxdepth 1 -name cluster_LTH*txt | xargs -n 1 tail -n +2 > ../output/manual_clustering/cbai_transcriptomev2.0/Crab_A/merged_modules/LTH_merged.txt\n",
    "\n",
    "# Merge all HLH modules\n",
    "!find ../output/manual_clustering/cbai_transcriptomev2.0/Crab_A -maxdepth 1 -name cluster_HLH*txt | xargs -n 1 tail -n +2 > ../output/manual_clustering/cbai_transcriptomev2.0/Crab_A/merged_modules/HLH_merged.txt\n",
    "\n",
    "# Merge all LHL modules\n",
    "!find ../output/manual_clustering/cbai_transcriptomev2.0/Crab_A -maxdepth 1 -name cluster_LHL*txt | xargs -n 1 tail -n +2 > ../output/manual_clustering/cbai_transcriptomev2.0/Crab_A/merged_modules/LHL_merged.txt\n",
    "\n",
    "# Won't merge MIX modules, as none are present in this crab"
   ]
  },
  {
   "cell_type": "markdown",
   "metadata": {},
   "source": [
    "Check we did this right by examining number of lines. There will be slightly fewer in merged_modules, as we removed headers"
   ]
  },
  {
   "cell_type": "code",
   "execution_count": 92,
   "metadata": {},
   "outputs": [
    {
     "name": "stdout",
     "output_type": "stream",
     "text": [
      "    117 ../output/manual_clustering/cbai_transcriptomev2.0/Crab_A/cluster_HLH.txt\n",
      "   4799 ../output/manual_clustering/cbai_transcriptomev2.0/Crab_A/cluster_HTL.txt\n",
      "   3241 ../output/manual_clustering/cbai_transcriptomev2.0/Crab_A/cluster_HTL2.txt\n",
      "   6671 ../output/manual_clustering/cbai_transcriptomev2.0/Crab_A/cluster_LHL.txt\n",
      "  49553 ../output/manual_clustering/cbai_transcriptomev2.0/Crab_A/cluster_LTH.txt\n",
      "    361 ../output/manual_clustering/cbai_transcriptomev2.0/Crab_A/cluster_LTH2.txt\n",
      "  64742 total\n"
     ]
    }
   ],
   "source": [
    "!wc -l ../output/manual_clustering/cbai_transcriptomev2.0/Crab_A/cluster_*txt"
   ]
  },
  {
   "cell_type": "code",
   "execution_count": 93,
   "metadata": {},
   "outputs": [
    {
     "name": "stdout",
     "output_type": "stream",
     "text": [
      "    116 ../output/manual_clustering/cbai_transcriptomev2.0/Crab_A/merged_modules/HLH_merged.txt\n",
      "   8038 ../output/manual_clustering/cbai_transcriptomev2.0/Crab_A/merged_modules/HTL_merged.txt\n",
      "   6670 ../output/manual_clustering/cbai_transcriptomev2.0/Crab_A/merged_modules/LHL_merged.txt\n",
      "  49912 ../output/manual_clustering/cbai_transcriptomev2.0/Crab_A/merged_modules/LTH_merged.txt\n",
      "  64736 total\n"
     ]
    }
   ],
   "source": [
    "!wc -l ../output/manual_clustering/cbai_transcriptomev2.0/Crab_A/merged_modules/*merged.txt"
   ]
  },
  {
   "cell_type": "markdown",
   "metadata": {},
   "source": [
    "Looks good! We can move on."
   ]
  },
  {
   "cell_type": "markdown",
   "metadata": {},
   "source": [
    "## Crab B"
   ]
  },
  {
   "cell_type": "code",
   "execution_count": 94,
   "metadata": {},
   "outputs": [
    {
     "name": "stdout",
     "output_type": "stream",
     "text": [
      "cluster_HLH.txt\t\t  cluster_LHL.txt\t    cluster_LTH2_heatmap.png\n",
      "cluster_HLH_heatmap.png   cluster_LHL2.txt\t    cluster_LTH_heatmap.png\n",
      "cluster_HTL.txt\t\t  cluster_LHL2_heatmap.png  heatmap.png\n",
      "cluster_HTL2.txt\t  cluster_LHL_heatmap.png   manual_clustnums\n",
      "cluster_HTL2_heatmap.png  cluster_LTH.txt\n",
      "cluster_HTL_heatmap.png   cluster_LTH2.txt\n"
     ]
    }
   ],
   "source": [
    "!ls ../output/manual_clustering/cbai_transcriptomev2.0/Crab_B/"
   ]
  },
  {
   "cell_type": "code",
   "execution_count": 95,
   "metadata": {},
   "outputs": [],
   "source": [
    "# Make new directory for merged modules\n",
    "!mkdir ../output/manual_clustering/cbai_transcriptomev2.0/Crab_B/merged_modules\n",
    "\n",
    "# Merge all HTL modules\n",
    "!find ../output/manual_clustering/cbai_transcriptomev2.0/Crab_B -maxdepth 1 -name cluster_HTL*txt | xargs -n 1 tail -n +2 > ../output/manual_clustering/cbai_transcriptomev2.0/Crab_B/merged_modules/HTL_merged.txt\n",
    "\n",
    "# Merge all LTH modules\n",
    "!find ../output/manual_clustering/cbai_transcriptomev2.0/Crab_B -maxdepth 1 -name cluster_LTH*txt | xargs -n 1 tail -n +2 > ../output/manual_clustering/cbai_transcriptomev2.0/Crab_B/merged_modules/LTH_merged.txt\n",
    "\n",
    "# Merge all HLH modules\n",
    "!find ../output/manual_clustering/cbai_transcriptomev2.0/Crab_B -maxdepth 1 -name cluster_HLH*txt | xargs -n 1 tail -n +2 > ../output/manual_clustering/cbai_transcriptomev2.0/Crab_B/merged_modules/HLH_merged.txt\n",
    "\n",
    "# Merge all LHL modules\n",
    "!find ../output/manual_clustering/cbai_transcriptomev2.0/Crab_B -maxdepth 1 -name cluster_LHL*txt | xargs -n 1 tail -n +2 > ../output/manual_clustering/cbai_transcriptomev2.0/Crab_B/merged_modules/LHL_merged.txt\n",
    "\n",
    "# Won't merge MIX modules, as none are present in this crab"
   ]
  },
  {
   "cell_type": "markdown",
   "metadata": {},
   "source": [
    "Check we did this right by examining number of lines. There will be slightly fewer in merged_modules, as we removed headers"
   ]
  },
  {
   "cell_type": "code",
   "execution_count": 96,
   "metadata": {},
   "outputs": [
    {
     "name": "stdout",
     "output_type": "stream",
     "text": [
      "   1358 ../output/manual_clustering/cbai_transcriptomev2.0/Crab_B/cluster_HLH.txt\n",
      "   7376 ../output/manual_clustering/cbai_transcriptomev2.0/Crab_B/cluster_HTL.txt\n",
      "    178 ../output/manual_clustering/cbai_transcriptomev2.0/Crab_B/cluster_HTL2.txt\n",
      "  18964 ../output/manual_clustering/cbai_transcriptomev2.0/Crab_B/cluster_LHL.txt\n",
      "   1874 ../output/manual_clustering/cbai_transcriptomev2.0/Crab_B/cluster_LHL2.txt\n",
      "   6496 ../output/manual_clustering/cbai_transcriptomev2.0/Crab_B/cluster_LTH.txt\n",
      "   4716 ../output/manual_clustering/cbai_transcriptomev2.0/Crab_B/cluster_LTH2.txt\n",
      "  40962 total\n"
     ]
    }
   ],
   "source": [
    "!wc -l ../output/manual_clustering/cbai_transcriptomev2.0/Crab_B/cluster_*txt"
   ]
  },
  {
   "cell_type": "code",
   "execution_count": 97,
   "metadata": {},
   "outputs": [
    {
     "name": "stdout",
     "output_type": "stream",
     "text": [
      "   1357 ../output/manual_clustering/cbai_transcriptomev2.0/Crab_B/merged_modules/HLH_merged.txt\n",
      "   7552 ../output/manual_clustering/cbai_transcriptomev2.0/Crab_B/merged_modules/HTL_merged.txt\n",
      "  20836 ../output/manual_clustering/cbai_transcriptomev2.0/Crab_B/merged_modules/LHL_merged.txt\n",
      "  11210 ../output/manual_clustering/cbai_transcriptomev2.0/Crab_B/merged_modules/LTH_merged.txt\n",
      "  40955 total\n"
     ]
    }
   ],
   "source": [
    "!wc -l ../output/manual_clustering/cbai_transcriptomev2.0/Crab_B/merged_modules/*merged.txt"
   ]
  },
  {
   "cell_type": "markdown",
   "metadata": {},
   "source": [
    "Looks good! We can move on."
   ]
  },
  {
   "cell_type": "markdown",
   "metadata": {},
   "source": [
    "## Crab C"
   ]
  },
  {
   "cell_type": "code",
   "execution_count": 98,
   "metadata": {},
   "outputs": [
    {
     "name": "stdout",
     "output_type": "stream",
     "text": [
      "cluster_HLH.txt\t\t  cluster_HTL3_heatmap.png  cluster_LTH.txt\n",
      "cluster_HLH_heatmap.png   cluster_HTL_heatmap.png   cluster_LTH_heatmap.png\n",
      "cluster_HTL.txt\t\t  cluster_LHL.txt\t    heatmap.png\n",
      "cluster_HTL2.txt\t  cluster_LHL2.txt\t    manual_clustnums\n",
      "cluster_HTL2_heatmap.png  cluster_LHL2_heatmap.png\n",
      "cluster_HTL3.txt\t  cluster_LHL_heatmap.png\n"
     ]
    }
   ],
   "source": [
    "!ls ../output/manual_clustering/cbai_transcriptomev2.0/Crab_C/"
   ]
  },
  {
   "cell_type": "code",
   "execution_count": 99,
   "metadata": {},
   "outputs": [],
   "source": [
    "# Make new directory for merged modules\n",
    "!mkdir ../output/manual_clustering/cbai_transcriptomev2.0/Crab_C/merged_modules\n",
    "\n",
    "# Merge all HTL modules\n",
    "!find ../output/manual_clustering/cbai_transcriptomev2.0/Crab_C -maxdepth 1 -name cluster_HTL*txt | xargs -n 1 tail -n +2 > ../output/manual_clustering/cbai_transcriptomev2.0/Crab_C/merged_modules/HTL_merged.txt\n",
    "\n",
    "# Merge all LTH modules\n",
    "!find ../output/manual_clustering/cbai_transcriptomev2.0/Crab_C -maxdepth 1 -name cluster_LTH*txt | xargs -n 1 tail -n +2 > ../output/manual_clustering/cbai_transcriptomev2.0/Crab_C/merged_modules/LTH_merged.txt\n",
    "\n",
    "# Merge all HLH modules\n",
    "!find ../output/manual_clustering/cbai_transcriptomev2.0/Crab_C -maxdepth 1 -name cluster_HLH*txt | xargs -n 1 tail -n +2 > ../output/manual_clustering/cbai_transcriptomev2.0/Crab_C/merged_modules/HLH_merged.txt\n",
    "\n",
    "# Merge all LHL modules\n",
    "!find ../output/manual_clustering/cbai_transcriptomev2.0/Crab_C -maxdepth 1 -name cluster_LHL*txt | xargs -n 1 tail -n +2 > ../output/manual_clustering/cbai_transcriptomev2.0/Crab_C/merged_modules/LHL_merged.txt\n",
    "\n",
    "# Won't merge MIX modules, as none are present in this crab"
   ]
  },
  {
   "cell_type": "markdown",
   "metadata": {},
   "source": [
    "Check we did this right by examining number of lines. There will be slightly fewer in merged_modules, as we removed headers"
   ]
  },
  {
   "cell_type": "code",
   "execution_count": 100,
   "metadata": {},
   "outputs": [
    {
     "name": "stdout",
     "output_type": "stream",
     "text": [
      "   4092 ../output/manual_clustering/cbai_transcriptomev2.0/Crab_C/cluster_HLH.txt\n",
      "   2772 ../output/manual_clustering/cbai_transcriptomev2.0/Crab_C/cluster_HTL.txt\n",
      "   2817 ../output/manual_clustering/cbai_transcriptomev2.0/Crab_C/cluster_HTL2.txt\n",
      "   5604 ../output/manual_clustering/cbai_transcriptomev2.0/Crab_C/cluster_HTL3.txt\n",
      "   2377 ../output/manual_clustering/cbai_transcriptomev2.0/Crab_C/cluster_LHL.txt\n",
      "   2654 ../output/manual_clustering/cbai_transcriptomev2.0/Crab_C/cluster_LHL2.txt\n",
      "   6436 ../output/manual_clustering/cbai_transcriptomev2.0/Crab_C/cluster_LTH.txt\n",
      "  26752 total\n"
     ]
    }
   ],
   "source": [
    "!wc -l ../output/manual_clustering/cbai_transcriptomev2.0/Crab_C/cluster_*txt"
   ]
  },
  {
   "cell_type": "code",
   "execution_count": 101,
   "metadata": {},
   "outputs": [
    {
     "name": "stdout",
     "output_type": "stream",
     "text": [
      "   4091 ../output/manual_clustering/cbai_transcriptomev2.0/Crab_C/merged_modules/HLH_merged.txt\n",
      "  11190 ../output/manual_clustering/cbai_transcriptomev2.0/Crab_C/merged_modules/HTL_merged.txt\n",
      "   5029 ../output/manual_clustering/cbai_transcriptomev2.0/Crab_C/merged_modules/LHL_merged.txt\n",
      "   6435 ../output/manual_clustering/cbai_transcriptomev2.0/Crab_C/merged_modules/LTH_merged.txt\n",
      "  26745 total\n"
     ]
    }
   ],
   "source": [
    "!wc -l ../output/manual_clustering/cbai_transcriptomev2.0/Crab_C/merged_modules/*merged.txt"
   ]
  },
  {
   "cell_type": "markdown",
   "metadata": {},
   "source": [
    "Looks good! We can move on."
   ]
  },
  {
   "cell_type": "markdown",
   "metadata": {},
   "source": [
    "## Crab E"
   ]
  },
  {
   "cell_type": "code",
   "execution_count": 102,
   "metadata": {},
   "outputs": [
    {
     "name": "stdout",
     "output_type": "stream",
     "text": [
      "cluster_HLH.txt\t\t  cluster_HTL2_heatmap.png  cluster_LTH2_heatmap.png\n",
      "cluster_HLH2.txt\t  cluster_HTL_heatmap.png   cluster_LTH_heatmap.png\n",
      "cluster_HLH2_heatmap.png  cluster_LHL.txt\t    heatmap.png\n",
      "cluster_HLH_heatmap.png   cluster_LHL_heatmap.png   manual_clustnums\n",
      "cluster_HTL.txt\t\t  cluster_LTH.txt\n",
      "cluster_HTL2.txt\t  cluster_LTH2.txt\n"
     ]
    }
   ],
   "source": [
    "!ls ../output/manual_clustering/cbai_transcriptomev2.0/Crab_E/"
   ]
  },
  {
   "cell_type": "code",
   "execution_count": 103,
   "metadata": {},
   "outputs": [],
   "source": [
    "# Make new directory for merged modules\n",
    "!mkdir ../output/manual_clustering/cbai_transcriptomev2.0/Crab_E/merged_modules\n",
    "\n",
    "# Merge all HTL modules\n",
    "!find ../output/manual_clustering/cbai_transcriptomev2.0/Crab_E -maxdepth 1 -name cluster_HTL*txt | xargs -n 1 tail -n +2 > ../output/manual_clustering/cbai_transcriptomev2.0/Crab_E/merged_modules/HTL_merged.txt\n",
    "\n",
    "# Merge all LTH modules\n",
    "!find ../output/manual_clustering/cbai_transcriptomev2.0/Crab_E -maxdepth 1 -name cluster_LTH*txt | xargs -n 1 tail -n +2 > ../output/manual_clustering/cbai_transcriptomev2.0/Crab_E/merged_modules/LTH_merged.txt\n",
    "\n",
    "# Merge all HLH modules\n",
    "!find ../output/manual_clustering/cbai_transcriptomev2.0/Crab_E -maxdepth 1 -name cluster_HLH*txt | xargs -n 1 tail -n +2 > ../output/manual_clustering/cbai_transcriptomev2.0/Crab_E/merged_modules/HLH_merged.txt\n",
    "\n",
    "# Merge all LHL modules\n",
    "!find ../output/manual_clustering/cbai_transcriptomev2.0/Crab_E -maxdepth 1 -name cluster_LHL*txt | xargs -n 1 tail -n +2 > ../output/manual_clustering/cbai_transcriptomev2.0/Crab_E/merged_modules/LHL_merged.txt\n",
    "\n",
    "# Won't merge MIX modules, as none are present in this crab"
   ]
  },
  {
   "cell_type": "markdown",
   "metadata": {},
   "source": [
    "Check we did this right by examining number of lines. There will be slightly fewer in merged_modules, as we removed headers"
   ]
  },
  {
   "cell_type": "code",
   "execution_count": 104,
   "metadata": {},
   "outputs": [
    {
     "name": "stdout",
     "output_type": "stream",
     "text": [
      "   3131 ../output/manual_clustering/cbai_transcriptomev2.0/Crab_E/cluster_HLH.txt\n",
      "   1759 ../output/manual_clustering/cbai_transcriptomev2.0/Crab_E/cluster_HLH2.txt\n",
      "   8066 ../output/manual_clustering/cbai_transcriptomev2.0/Crab_E/cluster_HTL.txt\n",
      "   4240 ../output/manual_clustering/cbai_transcriptomev2.0/Crab_E/cluster_HTL2.txt\n",
      "   4509 ../output/manual_clustering/cbai_transcriptomev2.0/Crab_E/cluster_LHL.txt\n",
      "    965 ../output/manual_clustering/cbai_transcriptomev2.0/Crab_E/cluster_LTH.txt\n",
      "   5525 ../output/manual_clustering/cbai_transcriptomev2.0/Crab_E/cluster_LTH2.txt\n",
      "  28195 total\n"
     ]
    }
   ],
   "source": [
    "!wc -l ../output/manual_clustering/cbai_transcriptomev2.0/Crab_E/cluster_*txt"
   ]
  },
  {
   "cell_type": "code",
   "execution_count": 105,
   "metadata": {},
   "outputs": [
    {
     "name": "stdout",
     "output_type": "stream",
     "text": [
      "   4888 ../output/manual_clustering/cbai_transcriptomev2.0/Crab_E/merged_modules/HLH_merged.txt\n",
      "  12304 ../output/manual_clustering/cbai_transcriptomev2.0/Crab_E/merged_modules/HTL_merged.txt\n",
      "   4508 ../output/manual_clustering/cbai_transcriptomev2.0/Crab_E/merged_modules/LHL_merged.txt\n",
      "   6488 ../output/manual_clustering/cbai_transcriptomev2.0/Crab_E/merged_modules/LTH_merged.txt\n",
      "  28188 total\n"
     ]
    }
   ],
   "source": [
    "!wc -l ../output/manual_clustering/cbai_transcriptomev2.0/Crab_E/merged_modules/*merged.txt"
   ]
  },
  {
   "cell_type": "markdown",
   "metadata": {},
   "source": [
    "Looks good! We can move on."
   ]
  },
  {
   "cell_type": "markdown",
   "metadata": {},
   "source": [
    "## Crab G"
   ]
  },
  {
   "cell_type": "code",
   "execution_count": 106,
   "metadata": {},
   "outputs": [
    {
     "name": "stdout",
     "output_type": "stream",
     "text": [
      "cluster_HL.txt\t\t cluster_LH2.txt\t  cluster_MIX2_heatmap.png\n",
      "cluster_HL2.txt\t\t cluster_LH2_heatmap.png  cluster_MIX_heatmap.png\n",
      "cluster_HL2_heatmap.png  cluster_LH_heatmap.png   heatmap.png\n",
      "cluster_HL_heatmap.png\t cluster_MIX.txt\t  manual_clustnums\n",
      "cluster_LH.txt\t\t cluster_MIX2.txt\n"
     ]
    }
   ],
   "source": [
    "!ls ../output/manual_clustering/cbai_transcriptomev2.0/Crab_G/"
   ]
  },
  {
   "cell_type": "code",
   "execution_count": 107,
   "metadata": {},
   "outputs": [],
   "source": [
    "# Make new directory for merged modules\n",
    "!mkdir ../output/manual_clustering/cbai_transcriptomev2.0/Crab_G/merged_modules\n",
    "\n",
    "# Merge all HL modules\n",
    "!find ../output/manual_clustering/cbai_transcriptomev2.0/Crab_G -maxdepth 1 -name cluster_HL*txt | xargs -n 1 tail -n +2 > ../output/manual_clustering/cbai_transcriptomev2.0/Crab_G/merged_modules/HL_merged.txt\n",
    "\n",
    "# Merge all LH modules\n",
    "!find ../output/manual_clustering/cbai_transcriptomev2.0/Crab_G -maxdepth 1 -name cluster_LH*txt | xargs -n 1 tail -n +2 > ../output/manual_clustering/cbai_transcriptomev2.0/Crab_G/merged_modules/LH_merged.txt\n",
    "\n",
    "# Merge all MIX modules\n",
    "!find ../output/manual_clustering/cbai_transcriptomev2.0/Crab_G -maxdepth 1 -name cluster_MIX*txt | xargs -n 1 tail -n +2 > ../output/manual_clustering/cbai_transcriptomev2.0/Crab_G/merged_modules/MIX_merged.txt\n",
    "\n",
    "# Won't merge HH or LL modules, as none are present in this crab"
   ]
  },
  {
   "cell_type": "markdown",
   "metadata": {},
   "source": [
    "Check we did this right by examining number of lines. There will be slightly fewer in merged_modules, as we removed headers"
   ]
  },
  {
   "cell_type": "code",
   "execution_count": 108,
   "metadata": {},
   "outputs": [
    {
     "name": "stdout",
     "output_type": "stream",
     "text": [
      "  17867 ../output/manual_clustering/cbai_transcriptomev2.0/Crab_G/cluster_HL.txt\n",
      "    667 ../output/manual_clustering/cbai_transcriptomev2.0/Crab_G/cluster_HL2.txt\n",
      "  13939 ../output/manual_clustering/cbai_transcriptomev2.0/Crab_G/cluster_LH.txt\n",
      "    113 ../output/manual_clustering/cbai_transcriptomev2.0/Crab_G/cluster_LH2.txt\n",
      "     25 ../output/manual_clustering/cbai_transcriptomev2.0/Crab_G/cluster_MIX.txt\n",
      "    343 ../output/manual_clustering/cbai_transcriptomev2.0/Crab_G/cluster_MIX2.txt\n",
      "  32954 total\n"
     ]
    }
   ],
   "source": [
    "!wc -l ../output/manual_clustering/cbai_transcriptomev2.0/Crab_G/cluster_*txt"
   ]
  },
  {
   "cell_type": "code",
   "execution_count": 109,
   "metadata": {},
   "outputs": [
    {
     "name": "stdout",
     "output_type": "stream",
     "text": [
      "  18532 ../output/manual_clustering/cbai_transcriptomev2.0/Crab_G/merged_modules/HL_merged.txt\n",
      "  14050 ../output/manual_clustering/cbai_transcriptomev2.0/Crab_G/merged_modules/LH_merged.txt\n",
      "    366 ../output/manual_clustering/cbai_transcriptomev2.0/Crab_G/merged_modules/MIX_merged.txt\n",
      "  32948 total\n"
     ]
    }
   ],
   "source": [
    "!wc -l ../output/manual_clustering/cbai_transcriptomev2.0/Crab_G/merged_modules/*merged.txt"
   ]
  },
  {
   "cell_type": "markdown",
   "metadata": {},
   "source": [
    "Looks good! We can move on."
   ]
  },
  {
   "cell_type": "markdown",
   "metadata": {},
   "source": [
    "## Crab H"
   ]
  },
  {
   "cell_type": "code",
   "execution_count": 110,
   "metadata": {},
   "outputs": [
    {
     "name": "stdout",
     "output_type": "stream",
     "text": [
      "cluster_HH.txt\t\t cluster_HL_heatmap.png  cluster_MIX2_heatmap.png\n",
      "cluster_HH_heatmap.png\t cluster_LH.txt\t\t cluster_MIX_heatmap.png\n",
      "cluster_HL.txt\t\t cluster_LH_heatmap.png  heatmap.png\n",
      "cluster_HL2.txt\t\t cluster_MIX.txt\t manual_clustnums\n",
      "cluster_HL2_heatmap.png  cluster_MIX2.txt\n"
     ]
    }
   ],
   "source": [
    "!ls ../output/manual_clustering/cbai_transcriptomev2.0/Crab_H/"
   ]
  },
  {
   "cell_type": "code",
   "execution_count": 111,
   "metadata": {},
   "outputs": [],
   "source": [
    "# Make new directory for merged modules\n",
    "!mkdir ../output/manual_clustering/cbai_transcriptomev2.0/Crab_H/merged_modules\n",
    "\n",
    "# Merge all HH modules\n",
    "!find ../output/manual_clustering/cbai_transcriptomev2.0/Crab_H -maxdepth 1 -name cluster_HH*txt | xargs -n 1 tail -n +2 > ../output/manual_clustering/cbai_transcriptomev2.0/Crab_H/merged_modules/HH_merged.txt\n",
    "\n",
    "# Merge all HL modules\n",
    "!find ../output/manual_clustering/cbai_transcriptomev2.0/Crab_H -maxdepth 1 -name cluster_HL*txt | xargs -n 1 tail -n +2 > ../output/manual_clustering/cbai_transcriptomev2.0/Crab_H/merged_modules/HL_merged.txt\n",
    "\n",
    "# Merge all LH modules\n",
    "!find ../output/manual_clustering/cbai_transcriptomev2.0/Crab_H -maxdepth 1 -name cluster_LH*txt | xargs -n 1 tail -n +2 > ../output/manual_clustering/cbai_transcriptomev2.0/Crab_H/merged_modules/LH_merged.txt\n",
    "\n",
    "# Merge all MIX modules\n",
    "!find ../output/manual_clustering/cbai_transcriptomev2.0/Crab_H -maxdepth 1 -name cluster_MIX*txt | xargs -n 1 tail -n +2 > ../output/manual_clustering/cbai_transcriptomev2.0/Crab_H/merged_modules/MIX_merged.txt\n",
    "\n",
    "# Won't merge LL modules, as none are present in this crab"
   ]
  },
  {
   "cell_type": "markdown",
   "metadata": {},
   "source": [
    "Check we did this right by examining number of lines. There will be slightly fewer in merged_modules, as we removed headers"
   ]
  },
  {
   "cell_type": "code",
   "execution_count": 112,
   "metadata": {},
   "outputs": [
    {
     "name": "stdout",
     "output_type": "stream",
     "text": [
      "  1497 ../output/manual_clustering/cbai_transcriptomev2.0/Crab_H/cluster_HH.txt\n",
      " 11575 ../output/manual_clustering/cbai_transcriptomev2.0/Crab_H/cluster_HL.txt\n",
      "   635 ../output/manual_clustering/cbai_transcriptomev2.0/Crab_H/cluster_HL2.txt\n",
      "  5806 ../output/manual_clustering/cbai_transcriptomev2.0/Crab_H/cluster_LH.txt\n",
      "   117 ../output/manual_clustering/cbai_transcriptomev2.0/Crab_H/cluster_MIX.txt\n",
      "    12 ../output/manual_clustering/cbai_transcriptomev2.0/Crab_H/cluster_MIX2.txt\n",
      " 19642 total\n"
     ]
    }
   ],
   "source": [
    "!wc -l ../output/manual_clustering/cbai_transcriptomev2.0/Crab_H/cluster_*txt"
   ]
  },
  {
   "cell_type": "code",
   "execution_count": 113,
   "metadata": {},
   "outputs": [
    {
     "name": "stdout",
     "output_type": "stream",
     "text": [
      "  1496 ../output/manual_clustering/cbai_transcriptomev2.0/Crab_H/merged_modules/HH_merged.txt\n",
      " 12208 ../output/manual_clustering/cbai_transcriptomev2.0/Crab_H/merged_modules/HL_merged.txt\n",
      "  5805 ../output/manual_clustering/cbai_transcriptomev2.0/Crab_H/merged_modules/LH_merged.txt\n",
      "   127 ../output/manual_clustering/cbai_transcriptomev2.0/Crab_H/merged_modules/MIX_merged.txt\n",
      " 19636 total\n"
     ]
    }
   ],
   "source": [
    "!wc -l ../output/manual_clustering/cbai_transcriptomev2.0/Crab_H/merged_modules/*merged.txt"
   ]
  },
  {
   "cell_type": "markdown",
   "metadata": {},
   "source": [
    "Looks good! We can move on."
   ]
  },
  {
   "cell_type": "markdown",
   "metadata": {},
   "source": [
    "## Crab I"
   ]
  },
  {
   "cell_type": "code",
   "execution_count": 114,
   "metadata": {},
   "outputs": [
    {
     "name": "stdout",
     "output_type": "stream",
     "text": [
      "cluster_HL.txt\t\t cluster_LH.txt\t\t  cluster_MIX.txt\n",
      "cluster_HL2.txt\t\t cluster_LH2.txt\t  cluster_MIX_heatmap.png\n",
      "cluster_HL2_heatmap.png  cluster_LH2_heatmap.png  heatmap.png\n",
      "cluster_HL_heatmap.png\t cluster_LH_heatmap.png   manual_clustnums\n"
     ]
    }
   ],
   "source": [
    "!ls ../output/manual_clustering/cbai_transcriptomev2.0/Crab_I/"
   ]
  },
  {
   "cell_type": "code",
   "execution_count": 115,
   "metadata": {},
   "outputs": [],
   "source": [
    "# Make new directory for merged modules\n",
    "!mkdir ../output/manual_clustering/cbai_transcriptomev2.0/Crab_I/merged_modules\n",
    "\n",
    "# Merge all HL modules\n",
    "!find ../output/manual_clustering/cbai_transcriptomev2.0/Crab_I -maxdepth 1 -name cluster_HL*txt | xargs -n 1 tail -n +2 > ../output/manual_clustering/cbai_transcriptomev2.0/Crab_I/merged_modules/HL_merged.txt\n",
    "\n",
    "# Merge all LH modules\n",
    "!find ../output/manual_clustering/cbai_transcriptomev2.0/Crab_I -maxdepth 1 -name cluster_LH*txt | xargs -n 1 tail -n +2 > ../output/manual_clustering/cbai_transcriptomev2.0/Crab_I/merged_modules/LH_merged.txt\n",
    "\n",
    "# Merge all MIX modules\n",
    "!find ../output/manual_clustering/cbai_transcriptomev2.0/Crab_I -maxdepth 1 -name cluster_MIX*txt | xargs -n 1 tail -n +2 > ../output/manual_clustering/cbai_transcriptomev2.0/Crab_I/merged_modules/MIX_merged.txt\n",
    "\n",
    "# Won't merge HH or LL modules, as none are present in this crab"
   ]
  },
  {
   "cell_type": "markdown",
   "metadata": {},
   "source": [
    "Check we did this right by examining number of lines. There will be slightly fewer in merged_modules, as we removed headers"
   ]
  },
  {
   "cell_type": "code",
   "execution_count": 116,
   "metadata": {},
   "outputs": [
    {
     "name": "stdout",
     "output_type": "stream",
     "text": [
      " 11041 ../output/manual_clustering/cbai_transcriptomev2.0/Crab_I/cluster_HL.txt\n",
      "   278 ../output/manual_clustering/cbai_transcriptomev2.0/Crab_I/cluster_HL2.txt\n",
      "  9449 ../output/manual_clustering/cbai_transcriptomev2.0/Crab_I/cluster_LH.txt\n",
      "   116 ../output/manual_clustering/cbai_transcriptomev2.0/Crab_I/cluster_LH2.txt\n",
      "    25 ../output/manual_clustering/cbai_transcriptomev2.0/Crab_I/cluster_MIX.txt\n",
      " 20909 total\n"
     ]
    }
   ],
   "source": [
    "!wc -l ../output/manual_clustering/cbai_transcriptomev2.0/Crab_I/cluster_*txt"
   ]
  },
  {
   "cell_type": "code",
   "execution_count": 117,
   "metadata": {},
   "outputs": [
    {
     "name": "stdout",
     "output_type": "stream",
     "text": [
      " 11317 ../output/manual_clustering/cbai_transcriptomev2.0/Crab_I/merged_modules/HL_merged.txt\n",
      "  9563 ../output/manual_clustering/cbai_transcriptomev2.0/Crab_I/merged_modules/LH_merged.txt\n",
      "    24 ../output/manual_clustering/cbai_transcriptomev2.0/Crab_I/merged_modules/MIX_merged.txt\n",
      " 20904 total\n"
     ]
    }
   ],
   "source": [
    "!wc -l ../output/manual_clustering/cbai_transcriptomev2.0/Crab_I/merged_modules/*merged.txt"
   ]
  },
  {
   "cell_type": "markdown",
   "metadata": {},
   "source": [
    "Looks good! We can move on."
   ]
  },
  {
   "cell_type": "markdown",
   "metadata": {},
   "source": [
    "## Done merging"
   ]
  },
  {
   "cell_type": "markdown",
   "metadata": {},
   "source": [
    "Now, let's get a count of the number of lines in each module in each crab"
   ]
  },
  {
   "cell_type": "markdown",
   "metadata": {},
   "source": [
    "## Line Counts of Modules"
   ]
  },
  {
   "cell_type": "code",
   "execution_count": 118,
   "metadata": {},
   "outputs": [
    {
     "name": "stdout",
     "output_type": "stream",
     "text": [
      "     116 ../output/manual_clustering/cbai_transcriptomev2.0/Crab_A/merged_modules/HLH_merged.txt\n",
      "    8038 ../output/manual_clustering/cbai_transcriptomev2.0/Crab_A/merged_modules/HTL_merged.txt\n",
      "    6670 ../output/manual_clustering/cbai_transcriptomev2.0/Crab_A/merged_modules/LHL_merged.txt\n",
      "   49912 ../output/manual_clustering/cbai_transcriptomev2.0/Crab_A/merged_modules/LTH_merged.txt\n",
      "    1357 ../output/manual_clustering/cbai_transcriptomev2.0/Crab_B/merged_modules/HLH_merged.txt\n",
      "    7552 ../output/manual_clustering/cbai_transcriptomev2.0/Crab_B/merged_modules/HTL_merged.txt\n",
      "   20836 ../output/manual_clustering/cbai_transcriptomev2.0/Crab_B/merged_modules/LHL_merged.txt\n",
      "   11210 ../output/manual_clustering/cbai_transcriptomev2.0/Crab_B/merged_modules/LTH_merged.txt\n",
      "    4091 ../output/manual_clustering/cbai_transcriptomev2.0/Crab_C/merged_modules/HLH_merged.txt\n",
      "   11190 ../output/manual_clustering/cbai_transcriptomev2.0/Crab_C/merged_modules/HTL_merged.txt\n",
      "    5029 ../output/manual_clustering/cbai_transcriptomev2.0/Crab_C/merged_modules/LHL_merged.txt\n",
      "    6435 ../output/manual_clustering/cbai_transcriptomev2.0/Crab_C/merged_modules/LTH_merged.txt\n",
      "    4888 ../output/manual_clustering/cbai_transcriptomev2.0/Crab_E/merged_modules/HLH_merged.txt\n",
      "   12304 ../output/manual_clustering/cbai_transcriptomev2.0/Crab_E/merged_modules/HTL_merged.txt\n",
      "    4508 ../output/manual_clustering/cbai_transcriptomev2.0/Crab_E/merged_modules/LHL_merged.txt\n",
      "    6488 ../output/manual_clustering/cbai_transcriptomev2.0/Crab_E/merged_modules/LTH_merged.txt\n",
      "   18532 ../output/manual_clustering/cbai_transcriptomev2.0/Crab_G/merged_modules/HL_merged.txt\n",
      "   14050 ../output/manual_clustering/cbai_transcriptomev2.0/Crab_G/merged_modules/LH_merged.txt\n",
      "     366 ../output/manual_clustering/cbai_transcriptomev2.0/Crab_G/merged_modules/MIX_merged.txt\n",
      "    1496 ../output/manual_clustering/cbai_transcriptomev2.0/Crab_H/merged_modules/HH_merged.txt\n",
      "   12208 ../output/manual_clustering/cbai_transcriptomev2.0/Crab_H/merged_modules/HL_merged.txt\n",
      "    5805 ../output/manual_clustering/cbai_transcriptomev2.0/Crab_H/merged_modules/LH_merged.txt\n",
      "     127 ../output/manual_clustering/cbai_transcriptomev2.0/Crab_H/merged_modules/MIX_merged.txt\n",
      "   11317 ../output/manual_clustering/cbai_transcriptomev2.0/Crab_I/merged_modules/HL_merged.txt\n",
      "    9563 ../output/manual_clustering/cbai_transcriptomev2.0/Crab_I/merged_modules/LH_merged.txt\n",
      "      24 ../output/manual_clustering/cbai_transcriptomev2.0/Crab_I/merged_modules/MIX_merged.txt\n",
      "  234112 total\n"
     ]
    }
   ],
   "source": [
    "!wc -l ../output/manual_clustering/cbai_transcriptomev2.0/Crab_*/merged_modules/*merged.txt"
   ]
  },
  {
   "cell_type": "markdown",
   "metadata": {},
   "source": [
    "#### Table of Merged Module Counts (Absolute)\n",
    "\n",
    "Let's make a table of merged counts for each crab and module"
   ]
  },
  {
   "cell_type": "markdown",
   "metadata": {},
   "source": [
    "| Crab | HLH         | HTL_or_HL   | LHL   | LTH_or_LH     | HH    | LL  | Mixed | Total_genes |\n",
    "|------|-------------|-------------|-------|---------------|-------|-----|-------|-------------|\n",
    "| A    | 116         | 8,038       | 6,670 | 49,912        | NA    | NA  | 0     |  64,736     |\n",
    "| B    | 1,357       | 7,552       | 20,836| 11,210        | NA    | NA  | 0     |  40,955     |\n",
    "| C    | 4,091       | 11,190      | 5,029 | 6,435         | NA    | NA  | 0     |  26,745     |\n",
    "| E    | 4,888       | 12,304      | 4,508 | 6,488         | NA    | NA  | 0     |  28,188     |\n",
    "| G    | NA          | 18,532      | NA    | 14,050        | 0     | 0   | 366   |  32,948     |\n",
    "| H    | NA          | 12,208      | NA    | 5,805         | 1,496 | 0   | 127   |  19,636     | \n",
    "| I    | NA          | 11,317      | NA    | 9,563         | 0     | 0   | 24    |  20,904     |"
   ]
  },
  {
   "cell_type": "markdown",
   "metadata": {},
   "source": [
    "The above table was pasted and saved at ../output/manual_clustering/cbai_transcriptomev2.0/merged_modules_raw_counts.csv. Not the most reproducible, but I don't plan on using these tables later - solely for use by Claudia Mateo"
   ]
  },
  {
   "cell_type": "markdown",
   "metadata": {},
   "source": [
    "#### Table of Merged Module Counts (Percentage)\n",
    "\n",
    "Now, we'll make that same graph, but for each module type, enter the percentage of total genes for that crab.\n",
    "\n",
    "Ex: if Crab Z has 1000 genes, and 100 of them are part of the merged HLH module, the box for Crab Z, HLH will be 10%"
   ]
  },
  {
   "cell_type": "markdown",
   "metadata": {},
   "source": [
    "| Crab | HLH         | HTL_or_HL   | LHL    | LTH_or_LH     | HH    | LL  | Mixed | Total_genes |\n",
    "|------|-------------|-------------|--------|---------------|-------|-----|-------|-------------|\n",
    "| A    | 0.2%        | 12.4 %      | 10.3%  | 77.1%         | NA    | NA  | 0%    |  64,736     |\n",
    "| B    | 3.3%        | 18.4%       | 50.9%  | 27.4%         | NA    | NA  | 0%    |  40,955     |\n",
    "| C    | 15.3%       | 41.8%       | 18.8%  | 24.1%         | NA    | NA  | 0%    |  26,745     |\n",
    "| E    | 17.3%       | 43.7%       | 16.0%  | 23.0%         | NA    | NA  | 0%    |  28,188     |\n",
    "| G    | NA          | 56.2%       | NA     | 42.6%         | 0%    | 0%  | 1.1%  |  32,948     |\n",
    "| H    | NA          | 62.2%       | NA     | 29.6%         | 7.6%  | 0%  | 0.6%  |  19,636     | \n",
    "| I    | NA          | 54.1%       | NA     | 45.8%         | 0%    | 0%  | 0.1%  |  20,904     |"
   ]
  },
  {
   "cell_type": "markdown",
   "metadata": {},
   "source": [
    "The above table was pasted and saved at ../output/manual_clustering/cbai_transcriptomev2.0/merged_modules_percentages.csv. Not the most reproducible, but I don't plan on using these tables later - solely for use by Claudia Mateo"
   ]
  },
  {
   "cell_type": "markdown",
   "metadata": {},
   "source": []
  }
 ],
 "metadata": {
  "kernelspec": {
   "display_name": "Python 3",
   "language": "python",
   "name": "python3"
  },
  "language_info": {
   "codemirror_mode": {
    "name": "ipython",
    "version": 3
   },
   "file_extension": ".py",
   "mimetype": "text/x-python",
   "name": "python",
   "nbconvert_exporter": "python",
   "pygments_lexer": "ipython3",
   "version": "3.8.3"
  }
 },
 "nbformat": 4,
 "nbformat_minor": 4
}
