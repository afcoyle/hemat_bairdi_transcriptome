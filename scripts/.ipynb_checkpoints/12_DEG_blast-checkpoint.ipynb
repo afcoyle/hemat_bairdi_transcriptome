{
 "cells": [
  {
   "cell_type": "markdown",
   "metadata": {},
   "source": [
    "Aidan Coyle, afcoyle@uw.edu\n",
    "\n",
    "2021/01/20\n",
    "\n",
    "Roberts lab at SAFS\n",
    "\n",
    "## BLASTing DEGs against database of all Alveolata nucleotide sequences and all Arthropoda nucleotide sequences\n",
    "\n",
    "This script takes a newline-separated file of accession IDs for all DEGs and BLASTs it (using BLASTn)against all Alveolata nucleotide sequences. Alveolata is the superphylum containing all dinoflagellates, including _Hematodinium_. This should exclude all but the most highly-conserved _C. bairdi_ genes from the DEGs, allowing us to examine _Hematodinium_ DEGs on an individual basis.\n",
    "\n",
    "It then repeats the process, but using all Arthropoda nucleotide sequences. Arthropoda is, of course, the taxa containing the Tanner crab, _C. bairdi_. By performing this second BLAST, we will get an idea for how specific our BLAST results are, and be able to determine whether a particular DEG is more likely to be _C. bairdi_ or _Hematodinium_.\n",
    "\n",
    "Nucleotide sequences downloaded from the NCBI Taxonomy Browser at https://www.ncbi.nlm.nih.gov/Taxonomy/Browser/wwwtax.cgi as FASTA files. Download of Alveolata sequences was made at 00:06 on 2021-02-17. Download of Arthropoda sequences was made at 12:24 on 2021-02-24."
   ]
  },
  {
   "cell_type": "markdown",
   "metadata": {},
   "source": [
    "## BLASTn of DEGs against all Alveolata nucleotide sequences"
   ]
  },
  {
   "cell_type": "code",
   "execution_count": 36,
   "metadata": {},
   "outputs": [
    {
     "name": "stdout",
     "output_type": "stream",
     "text": [
      "\n",
      "\n",
      "Building a new DB, current time: 02/22/2021 23:57:21\n",
      "New DB name:   /mnt/c/Users/acoyl/Documents/GitHub/hemat_bairdii_transcriptome/data/blast_db/alveolata_nucleotides_2021_02_22/alveolata_uniprot_2021_02\n",
      "New DB title:  ../data/alveolata_sequences.fasta\n",
      "Sequence type: Nucleotide\n",
      "Keep MBits: T\n",
      "Maximum file size: 1000000000B\n",
      "Ignoring sequence 'lcl|MT078137.1_cds_QJQ82428.1_1' as it has no sequence data\n",
      "Adding sequences from FASTA; added 1566546 sequences in 81.6705 seconds.\n"
     ]
    }
   ],
   "source": [
    "# Create blast database from all Alveolata nucleotide sequences\n",
    "!makeblastdb \\\n",
    "-in ../data/alveolata_sequences.fasta \\\n",
    "-dbtype nucl \\\n",
    "-parse_seqids \\\n",
    "-out ../data/blast_db/alveolata_nucleotides_2021_02_22/alveolata_uniprot_2021_02"
   ]
  },
  {
   "cell_type": "code",
   "execution_count": 59,
   "metadata": {},
   "outputs": [
    {
     "name": "stdout",
     "output_type": "stream",
     "text": [
      "TRINITY_DN978_c2_g1_i3\n",
      "TRINITY_DN29869_c0_g1_i18\n",
      "TRINITY_DN135171_c0_g1_i12\n",
      "TRINITY_DN311_c0_g1_i18\n",
      "TRINITY_DN183158_c0_g1_i1\n",
      "cut: write error: Broken pipe\n"
     ]
    }
   ],
   "source": [
    "# Show what the first column of the DEG list looks like, used next\n",
    "!cut -f1 < ../graphs/DESeq2_output/amb2_vs_elev2_indiv/DEGlist.txt | head -n 5"
   ]
  },
  {
   "cell_type": "code",
   "execution_count": 22,
   "metadata": {},
   "outputs": [],
   "source": [
    "# Select first column - transcript ID - of the DEG list we made earlier, \n",
    "# turn into temporary file\n",
    "!cut -f1 < ../graphs/DESeq2_output/amb2_vs_elev2_indiv/DEGlist.txt \\\n",
    "> ../output/BLASTn/tempids.txt"
   ]
  },
  {
   "cell_type": "code",
   "execution_count": 23,
   "metadata": {},
   "outputs": [],
   "source": [
    "# Cross-reference transcript IDs and our transcriptome to get sequences for DEGs\n",
    "# Pull the line containing a match (the transcript ID) \n",
    "# and the one following (the fasta sequence), write to file\n",
    "!grep -w -A 1 -Ff ../output/BLASTn/tempids.txt \\\n",
    "../data/cbai_hemat_transcriptome_v2.0.fasta --no-group-separator > \\\n",
    "../output/BLASTn/input_seqs/amb2_vs_elev2_indiv_DEGs.fasta"
   ]
  },
  {
   "cell_type": "code",
   "execution_count": 24,
   "metadata": {},
   "outputs": [
    {
     "name": "stdout",
     "output_type": "stream",
     "text": [
      "2067 ../graphs/DESeq2_output/amb2_vs_elev2_indiv/DEGlist.txt\n"
     ]
    }
   ],
   "source": [
    "# Check length of original DEG list file\n",
    "!wc -l ../graphs/DESeq2_output/amb2_vs_elev2_indiv/DEGlist.txt"
   ]
  },
  {
   "cell_type": "code",
   "execution_count": 25,
   "metadata": {},
   "outputs": [
    {
     "name": "stdout",
     "output_type": "stream",
     "text": [
      "2067\n"
     ]
    }
   ],
   "source": [
    "# See how many FASTA sequences we have\n",
    "!grep -c \">\" ../output/BLASTn/input_seqs/amb2_vs_elev2_indiv_DEGs.fasta"
   ]
  },
  {
   "cell_type": "code",
   "execution_count": 26,
   "metadata": {},
   "outputs": [],
   "source": [
    "# Looks good! Remove temporary file\n",
    "!rm ../output/BLASTn/tempids.txt"
   ]
  },
  {
   "cell_type": "code",
   "execution_count": 102,
   "metadata": {},
   "outputs": [
    {
     "name": "stdout",
     "output_type": "stream",
     "text": [
      "Warning: [blastn] Examining 5 or more matches is recommended\n"
     ]
    }
   ],
   "source": [
    "# Blast all DEG sequences against our database of Alveolata sequences\n",
    "!blastn \\\n",
    "-task=\"blastn\" \\\n",
    "-query ../output/BLASTn/input_seqs/amb2_vs_elev2_indiv_DEGs.fasta \\\n",
    "-db ../data/blast_db/alveolata_nucleotides_2021_02_22/alveolata_uniprot_2021_02 \\\n",
    "-out ../output/BLASTn/alveolata_publicseqs/amb2_vs_elev2.tab \\\n",
    "-max_target_seqs 1 \\\n",
    "-outfmt 6 \\\n",
    "-num_threads 4"
   ]
  },
  {
   "cell_type": "code",
   "execution_count": 84,
   "metadata": {},
   "outputs": [
    {
     "name": "stdout",
     "output_type": "stream",
     "text": [
      "43 ../output/BLASTn/alveolata/amb2_vs_elev2.tab\n"
     ]
    }
   ],
   "source": [
    "# See how many matches we got \n",
    "!wc -l ../output/BLASTn/alveolata_publicseqs/amb2_vs_elev2.tab"
   ]
  },
  {
   "cell_type": "code",
   "execution_count": 85,
   "metadata": {},
   "outputs": [
    {
     "name": "stdout",
     "output_type": "stream",
     "text": [
      "TRINITY_DN17_c0_g1_i12\tHBJU01001350.1_cds_1\t75.340\t515\t117\t8\t809\t1318\t519\t10\t1.73e-60\t239\n",
      "TRINITY_DN61_c0_g1_i6\tHBLK01034498.1_cds_CAE2923986.1_1\t85.507\t276\t38\t2\t1321\t1595\t398\t124\t7.42e-75\t287\n",
      "TRINITY_DN8754_c1_g1_i1\tHBLO01048875.1_cds_CAE3072170.1_1\t73.904\t456\t108\t9\t268\t719\t656\t208\t1.29e-40\t172\n",
      "TRINITY_DN8756_c1_g1_i3\tHBJK01013588.1_cds_CAE1088085.1_1\t89.231\t65\t7\t0\t647\t711\t274\t210\t2.18e-13\t82.4\n",
      "TRINITY_DN43328_c0_g1_i10\tHBLC01024351.1_cds_CAE2698820.1_1\t100.000\t32\t0\t0\t631\t662\t277\t308\t1.20e-06\t60.2\n",
      "TRINITY_DN43328_c0_g1_i10\tHBLC01024351.1_cds_CAE2698820.1_1\t100.000\t29\t0\t0\t634\t662\t268\t296\t5.58e-05\t54.7\n",
      "TRINITY_DN431_c0_g2_i18\tHBKY01019556.1_cds_1\t72.336\t1070\t255\t29\t1730\t2792\t1103\t68\t6.00e-78\t298\n",
      "TRINITY_DN41764_c0_g1_i3\tHBLO01010512.1_cds_CAE3048796.1_1\t86.517\t89\t12\t0\t563\t651\t359\t447\t4.47e-18\t99.0\n",
      "TRINITY_DN883_c0_g1_i21\tHBNJ01035065.1_cds_1\t72.068\t1407\t356\t34\t147\t1533\t149\t1538\t1.28e-104\t387\n",
      "TRINITY_DN8273_c0_g1_i64\tHBHF01001998.1_cds_1\t100.000\t28\t0\t0\t20\t47\t297\t270\t4.49e-04\t52.8\n"
     ]
    }
   ],
   "source": [
    "# Look at those matches\n",
    "!head ../output/BLASTn/alveolata_publicseqs/amb2_vs_elev2.tab"
   ]
  },
  {
   "cell_type": "markdown",
   "metadata": {},
   "source": [
    "## Repeat the same process for Elevated Day 0 vs. Elevated Day 2"
   ]
  },
  {
   "cell_type": "code",
   "execution_count": 27,
   "metadata": {},
   "outputs": [],
   "source": [
    "# Select first column - transcript ID - of the DEG list we made earlier, \n",
    "# turn into temporary file\n",
    "!cut -f1 < ../graphs/DESeq2_output/elev0_vs_elev2_indiv/DEGlist.txt \\\n",
    "> ../output/BLASTn/tempids.txt"
   ]
  },
  {
   "cell_type": "code",
   "execution_count": 28,
   "metadata": {},
   "outputs": [],
   "source": [
    "# Cross-reference transcript IDs and our transcriptome to get sequences for DEGs\n",
    "# Pull the line containing a match (the transcript ID) \n",
    "# and the one following (the fasta sequence), write to file\n",
    "!grep -w -A 1 -Ff ../output/BLASTn/tempids.txt \\\n",
    "../data/cbai_hemat_transcriptome_v2.0.fasta --no-group-separator > \\\n",
    "../output/BLASTn/input_seqs/elev0_vs_elev2_indiv_DEGs.fasta"
   ]
  },
  {
   "cell_type": "code",
   "execution_count": 29,
   "metadata": {},
   "outputs": [
    {
     "name": "stdout",
     "output_type": "stream",
     "text": [
      "338 ../graphs/DESeq2_output/elev0_vs_elev2_indiv/DEGlist.txt\n"
     ]
    }
   ],
   "source": [
    "# Check length of original DEG list file\n",
    "!wc -l ../graphs/DESeq2_output/elev0_vs_elev2_indiv/DEGlist.txt"
   ]
  },
  {
   "cell_type": "code",
   "execution_count": 30,
   "metadata": {},
   "outputs": [
    {
     "name": "stdout",
     "output_type": "stream",
     "text": [
      "338\n"
     ]
    }
   ],
   "source": [
    "# See how many FASTA sequences we have\n",
    "!grep -c \">\" ../output/BLASTn/input_seqs/elev0_vs_elev2_indiv_DEGs.fasta"
   ]
  },
  {
   "cell_type": "code",
   "execution_count": 31,
   "metadata": {},
   "outputs": [],
   "source": [
    "# Looks good! Remove temporary file\n",
    "!rm ../output/BLASTn/tempids.txt"
   ]
  },
  {
   "cell_type": "code",
   "execution_count": 101,
   "metadata": {},
   "outputs": [
    {
     "name": "stdout",
     "output_type": "stream",
     "text": [
      "Warning: [blastn] Examining 5 or more matches is recommended\n"
     ]
    }
   ],
   "source": [
    "# Blast all DEG sequences against our database of Alveolata sequences\n",
    "!blastn \\\n",
    "-task=\"blastn\" \\\n",
    "-query ../output/BLASTn/input_seqs/elev0_vs_elev2_indiv_DEGs.fasta \\\n",
    "-db ../data/blast_db/alveolata_nucleotides_2021_02_22/alveolata_uniprot_2021_02 \\\n",
    "-out ../output/BLASTn/alveolata_publicseqs/elev0_vs_elev2.tab \\\n",
    "-max_target_seqs 1 \\\n",
    "-outfmt 6 \\\n",
    "-num_threads 4"
   ]
  },
  {
   "cell_type": "code",
   "execution_count": 4,
   "metadata": {},
   "outputs": [
    {
     "name": "stdout",
     "output_type": "stream",
     "text": [
      "351 ../output/BLASTn/alveolata_publicseqs/elev0_vs_elev2.tab\n"
     ]
    }
   ],
   "source": [
    "# See how many matches we got \n",
    "!wc -l ../output/BLASTn/alveolata_publicseqs/elev0_vs_elev2.tab"
   ]
  },
  {
   "cell_type": "code",
   "execution_count": 5,
   "metadata": {},
   "outputs": [
    {
     "name": "stdout",
     "output_type": "stream",
     "text": [
      "TRINITY_DN63011_c2_g1_i4\tHBLT01014068.1_cds_CAE3167617.1_1\t92.593\t27\t2\t0\t235\t261\t574\t600\t0.15\t41.0\n",
      "TRINITY_DN28882_c0_g1_i12\tXM_721189.2_cds_XP_726282.2_1\t78.333\t60\t11\t1\t348\t407\t1030\t973\t0.010\t48.2\n",
      "TRINITY_DN28849_c0_g1_i5\tLR865372.1_cds_CAD2093610.1_322\t88.889\t45\t2\t2\t1784\t1827\t1228\t1186\t0.001\t53.6\n",
      "TRINITY_DN28899_c0_g1_i14\tHBOA01032109.1_cds_1\t90.000\t30\t3\t0\t6\t35\t769\t740\t0.25\t41.9\n",
      "TRINITY_DN28899_c0_g1_i14\tHBOA01032109.1_cds_1\t86.667\t30\t4\t0\t42\t71\t769\t740\t3.0\t37.4\n",
      "TRINITY_DN71214_c0_g2_i1\tLT990236.1_cds_SPJ09677.1_173\t82.979\t47\t3\t3\t167\t212\t5104\t5146\t0.34\t41.0\n",
      "TRINITY_DN0_c116_g2_i2\tHBGB01045696.1_cds_CAD9071815.1_1\t82.353\t34\t6\t0\t191\t224\t640\t607\t5.5\t35.6\n",
      "TRINITY_DN0_c809_g2_i1\tXM_013494334.1_cds_XP_013349788.1_1\t74.118\t85\t20\t2\t20\t104\t1582\t1500\t0.001\t48.2\n",
      "TRINITY_DN4_c1_g1_i18\tHBNJ01029381.1_cds_CAE4303349.1_1\t90.000\t30\t3\t0\t279\t308\t568\t539\t0.54\t41.9\n",
      "TRINITY_DN2_c4_g2_i4\tHBNF01086722.1_cds_1\t92.857\t28\t0\t1\t217\t244\t29\t4\t0.50\t40.1\n"
     ]
    }
   ],
   "source": [
    "# Look at the first few\n",
    "!head ../output/BLASTn/alveolata_publicseqs/elev0_vs_elev2.tab"
   ]
  },
  {
   "cell_type": "markdown",
   "metadata": {},
   "source": [
    "# BLASTn of DEGs against all Arthropoda sequences\n"
   ]
  },
  {
   "cell_type": "code",
   "execution_count": 18,
   "metadata": {},
   "outputs": [
    {
     "name": "stdout",
     "output_type": "stream",
     "text": [
      "\n",
      "\n",
      "Building a new DB, current time: 02/25/2021 11:09:14\n",
      "New DB name:   /mnt/c/Users/acoyl/Documents/GitHub/hemat_bairdii_transcriptome/data/blast_db/arthropoda_nucleotides_2021_02_25/arthropoda_uniprot_2021_02\n",
      "New DB title:  ../data/arthropoda_sequences.fasta\n",
      "Sequence type: Nucleotide\n",
      "Keep MBits: T\n",
      "Maximum file size: 1000000000B\n",
      "FASTA-Reader: Ignoring invalid residues at position(s): On line 138246570: 4, 7, 10, 16, 21-23, 32, 35-36, 41, 44-45, 47\n",
      "Adding sequences from FASTA; added 5321483 sequences in 568.979 seconds.\n"
     ]
    }
   ],
   "source": [
    "# Create blast database from all Arthropoda nucleotide sequences\n",
    "!makeblastdb \\\n",
    "-in ../data/arthropoda_sequences.fasta \\\n",
    "-dbtype nucl \\\n",
    "-parse_seqids \\\n",
    "-out ../data/blast_db/arthropoda_nucleotides_2021_02_25/arthropoda_uniprot_2021_02"
   ]
  },
  {
   "cell_type": "markdown",
   "metadata": {},
   "source": [
    "### Already created .fasta files for our comparisons, so don't need to recreate"
   ]
  },
  {
   "cell_type": "code",
   "execution_count": 32,
   "metadata": {},
   "outputs": [
    {
     "name": "stdout",
     "output_type": "stream",
     "text": [
      "Warning: [blastn] Examining 5 or more matches is recommended\n"
     ]
    }
   ],
   "source": [
    "# Blast all DEG sequences for Ambient Day 2 vs. Elevated Day 2 against our database of Arthropoda sequences\n",
    "!blastn \\\n",
    "-task=\"blastn\" \\\n",
    "-query ../output/BLASTn/input_seqs/amb2_vs_elev2_indiv_DEGs.fasta \\\n",
    "-db ../data/blast_db/arthropoda_nucleotides_2021_02_25/arthropoda_uniprot_2021_02 \\\n",
    "-out ../output/BLASTn/arthropoda_publicseqs/amb2_vs_elev2.tab \\\n",
    "-max_target_seqs 1 \\\n",
    "-outfmt 6 \\\n",
    "-num_threads 4"
   ]
  },
  {
   "cell_type": "code",
   "execution_count": null,
   "metadata": {},
   "outputs": [
    {
     "name": "stdout",
     "output_type": "stream",
     "text": [
      "Warning: [blastn] Examining 5 or more matches is recommended\n"
     ]
    }
   ],
   "source": [
    "# Blast all DEG sequences for Elevated Day 0 vs. Elevated Day 2 against our database of Arthropoda sequences\n",
    "!blastn \\\n",
    "-task=\"blastn\" \\\n",
    "-query ../output/BLASTn/input_seqs/elev0_vs_elev2_indiv_DEGs.fasta \\\n",
    "-db ../data/blast_db/arthropoda_nucleotides_2021_02_25/arthropoda_uniprot_2021_02 \\\n",
    "-out ../output/BLASTn/arthropoda_publicseqs/elev0_vs_elev2.tab \\\n",
    "-max_target_seqs 1 \\\n",
    "-outfmt 6 \\\n",
    "-num_threads 4"
   ]
  },
  {
   "cell_type": "code",
   "execution_count": null,
   "metadata": {},
   "outputs": [],
   "source": []
  }
 ],
 "metadata": {
  "kernelspec": {
   "display_name": "Python 3",
   "language": "python",
   "name": "python3"
  },
  "language_info": {
   "codemirror_mode": {
    "name": "ipython",
    "version": 3
   },
   "file_extension": ".py",
   "mimetype": "text/x-python",
   "name": "python",
   "nbconvert_exporter": "python",
   "pygments_lexer": "ipython3",
   "version": "3.8.3"
  }
 },
 "nbformat": 4,
 "nbformat_minor": 4
}
