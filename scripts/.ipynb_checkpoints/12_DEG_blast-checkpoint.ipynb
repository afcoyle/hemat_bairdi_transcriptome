{
 "cells": [
  {
   "cell_type": "markdown",
   "metadata": {},
   "source": [
    "Aidan Coyle, afcoyle@uw.edu\n",
    "\n",
    "2021/01/20\n",
    "\n",
    "Roberts lab at SAFS\n",
    "\n",
    "## BLASTing DEGs against database of all Alveolata sequences\n",
    "\n",
    "This script takes a newline-separated file of accession IDs for all DEGs and BLASTs it against all Alveolata nucleotide sequences. Alveolata is the superphylum containing all dinoflagellates, including _Hematodinium_. This should exclude all but the most highly-conserved _C. bairdi_ genes from the DEGs, allowing us to examine _Hematodinium_ DEGs on an individual basis.\n",
    "\n",
    "All Alveolata nucleotide sequences downloaded from the NCBI Taxonomy Browser at https://www.ncbi.nlm.nih.gov/Taxonomy/Browser/wwwtax.cgi as a FASTA file. Download was made at 00:06 on 2021-02-17"
   ]
  },
  {
   "cell_type": "code",
   "execution_count": 36,
   "metadata": {},
   "outputs": [
    {
     "name": "stdout",
     "output_type": "stream",
     "text": [
      "\n",
      "\n",
      "Building a new DB, current time: 02/22/2021 23:57:21\n",
      "New DB name:   /mnt/c/Users/acoyl/Documents/GitHub/hemat_bairdii_transcriptome/data/blast_db/alveolata_nucleotides_2021_02_22/alveolata_uniprot_2021_02\n",
      "New DB title:  ../data/alveolata_sequences.fasta\n",
      "Sequence type: Nucleotide\n",
      "Keep MBits: T\n",
      "Maximum file size: 1000000000B\n",
      "Ignoring sequence 'lcl|MT078137.1_cds_QJQ82428.1_1' as it has no sequence data\n",
      "Adding sequences from FASTA; added 1566546 sequences in 81.6705 seconds.\n"
     ]
    }
   ],
   "source": [
    "# Create blast database from all Alveolata nucleotide sequences\n",
    "!makeblastdb \\\n",
    "-in ../data/alveolata_sequences.fasta \\\n",
    "-dbtype nucl \\\n",
    "-parse_seqids \\\n",
    "-out ../data/blast_db/alveolata_nucleotides_2021_02_22/alveolata_uniprot_2021_02"
   ]
  },
  {
   "cell_type": "code",
   "execution_count": 59,
   "metadata": {},
   "outputs": [
    {
     "name": "stdout",
     "output_type": "stream",
     "text": [
      "TRINITY_DN978_c2_g1_i3\n",
      "TRINITY_DN29869_c0_g1_i18\n",
      "TRINITY_DN135171_c0_g1_i12\n",
      "TRINITY_DN311_c0_g1_i18\n",
      "TRINITY_DN183158_c0_g1_i1\n",
      "cut: write error: Broken pipe\n"
     ]
    }
   ],
   "source": [
    "# Show what the first column of the DEG list looks like, used next\n",
    "!cut -f1 < ../graphs/DESeq2_output/amb2_vs_elev2_indiv/DEGlist.txt | head -n 5"
   ]
  },
  {
   "cell_type": "code",
   "execution_count": 62,
   "metadata": {},
   "outputs": [],
   "source": [
    "# Select first column - transcript ID - of the DEG list we made earlier, \n",
    "# turn into temporary file\n",
    "!cut -f1 < ../graphs/DESeq2_output/amb2_vs_elev2_indiv/DEGlist.txt \\\n",
    "> ../output/BLASTn/tempids.txt"
   ]
  },
  {
   "cell_type": "code",
   "execution_count": 64,
   "metadata": {},
   "outputs": [],
   "source": [
    "# Cross-reference transcript IDs and our transcriptome to get sequences for DEGs\n",
    "# Pull the line containing a match (the transcript ID) \n",
    "# and the one following (the fasta sequence), write to file\n",
    "!grep -w -A 1 -Ff ../output/BLASTn/tempids.txt \\\n",
    "../data/cbai_hemat_transcriptome_v2.0.fasta --no-group-separator > \\\n",
    "../output/BLASTn/alveolata/amb2_vs_elev2_indiv_DEGs.fasta"
   ]
  },
  {
   "cell_type": "code",
   "execution_count": 67,
   "metadata": {},
   "outputs": [
    {
     "name": "stdout",
     "output_type": "stream",
     "text": [
      "2067 ../graphs/DESeq2_output/amb2_vs_elev2_indiv/DEGlist.txt\n"
     ]
    }
   ],
   "source": [
    "# Check length of original DEG list file\n",
    "!wc -l ../graphs/DESeq2_output/amb2_vs_elev2_indiv/DEGlist.txt"
   ]
  },
  {
   "cell_type": "code",
   "execution_count": 68,
   "metadata": {},
   "outputs": [
    {
     "name": "stdout",
     "output_type": "stream",
     "text": [
      "2067\n"
     ]
    }
   ],
   "source": [
    "# See how many FASTA sequences we have\n",
    "!grep -c \">\" ../output/BLASTn/alveolata/amb2_vs_elev2_indiv_DEGs.fasta"
   ]
  },
  {
   "cell_type": "code",
   "execution_count": 69,
   "metadata": {},
   "outputs": [],
   "source": [
    "# Looks good! Remove temporary file\n",
    "!rm ../output/BLASTn/tempids.txt"
   ]
  },
  {
   "cell_type": "code",
   "execution_count": 102,
   "metadata": {},
   "outputs": [
    {
     "name": "stdout",
     "output_type": "stream",
     "text": [
      "Warning: [blastn] Examining 5 or more matches is recommended\n"
     ]
    }
   ],
   "source": [
    "# Blast all DEG sequences against our database of Alveolata sequences\n",
    "!blastn \\\n",
    "-task=\"blastn\" \\\n",
    "-query ../output/BLASTn/alveolata/amb2_vs_elev2_indiv_DEGs.fasta \\\n",
    "-db ../data/blast_db/alveolata_nucleotides_2021_02_22/alveolata_uniprot_2021_02 \\\n",
    "-out ../output/BLASTn/alveolata/amb2_vs_elev2.tab \\\n",
    "-max_target_seqs 1 \\\n",
    "-outfmt 6 \\\n",
    "-num_threads 4"
   ]
  },
  {
   "cell_type": "code",
   "execution_count": 84,
   "metadata": {},
   "outputs": [
    {
     "name": "stdout",
     "output_type": "stream",
     "text": [
      "43 ../output/BLASTn/alveolata/amb2_vs_elev2.tab\n"
     ]
    }
   ],
   "source": [
    "# See how many matches we got \n",
    "!wc -l ../output/BLASTn/alveolata/amb2_vs_elev2.tab"
   ]
  },
  {
   "cell_type": "code",
   "execution_count": 85,
   "metadata": {},
   "outputs": [
    {
     "name": "stdout",
     "output_type": "stream",
     "text": [
      "TRINITY_DN17_c0_g1_i12\tHBJU01001350.1_cds_1\t75.340\t515\t117\t8\t809\t1318\t519\t10\t1.73e-60\t239\n",
      "TRINITY_DN61_c0_g1_i6\tHBLK01034498.1_cds_CAE2923986.1_1\t85.507\t276\t38\t2\t1321\t1595\t398\t124\t7.42e-75\t287\n",
      "TRINITY_DN8754_c1_g1_i1\tHBLO01048875.1_cds_CAE3072170.1_1\t73.904\t456\t108\t9\t268\t719\t656\t208\t1.29e-40\t172\n",
      "TRINITY_DN8756_c1_g1_i3\tHBJK01013588.1_cds_CAE1088085.1_1\t89.231\t65\t7\t0\t647\t711\t274\t210\t2.18e-13\t82.4\n",
      "TRINITY_DN43328_c0_g1_i10\tHBLC01024351.1_cds_CAE2698820.1_1\t100.000\t32\t0\t0\t631\t662\t277\t308\t1.20e-06\t60.2\n",
      "TRINITY_DN43328_c0_g1_i10\tHBLC01024351.1_cds_CAE2698820.1_1\t100.000\t29\t0\t0\t634\t662\t268\t296\t5.58e-05\t54.7\n",
      "TRINITY_DN431_c0_g2_i18\tHBKY01019556.1_cds_1\t72.336\t1070\t255\t29\t1730\t2792\t1103\t68\t6.00e-78\t298\n",
      "TRINITY_DN41764_c0_g1_i3\tHBLO01010512.1_cds_CAE3048796.1_1\t86.517\t89\t12\t0\t563\t651\t359\t447\t4.47e-18\t99.0\n",
      "TRINITY_DN883_c0_g1_i21\tHBNJ01035065.1_cds_1\t72.068\t1407\t356\t34\t147\t1533\t149\t1538\t1.28e-104\t387\n",
      "TRINITY_DN8273_c0_g1_i64\tHBHF01001998.1_cds_1\t100.000\t28\t0\t0\t20\t47\t297\t270\t4.49e-04\t52.8\n"
     ]
    }
   ],
   "source": [
    "# Look at those matches\n",
    "!head ../output/BLASTn/alveolata/amb2_vs_elev2.tab"
   ]
  },
  {
   "cell_type": "markdown",
   "metadata": {},
   "source": [
    "## Repeat the same process for Elevated Day 0 vs. Elevated Day 2"
   ]
  },
  {
   "cell_type": "code",
   "execution_count": 73,
   "metadata": {},
   "outputs": [],
   "source": [
    "# Select first column - transcript ID - of the DEG list we made earlier, \n",
    "# turn into temporary file\n",
    "!cut -f1 < ../graphs/DESeq2_output/elev0_vs_elev2_indiv/DEGlist.txt \\\n",
    "> ../output/BLASTn/tempids.txt"
   ]
  },
  {
   "cell_type": "code",
   "execution_count": 74,
   "metadata": {},
   "outputs": [],
   "source": [
    "# Cross-reference transcript IDs and our transcriptome to get sequences for DEGs\n",
    "# Pull the line containing a match (the transcript ID) \n",
    "# and the one following (the fasta sequence), write to file\n",
    "!grep -w -A 1 -Ff ../output/BLASTn/tempids.txt \\\n",
    "../data/cbai_hemat_transcriptome_v2.0.fasta --no-group-separator > \\\n",
    "../output/BLASTn/alveolata/elev0_vs_elev2_indiv_DEGs.fasta"
   ]
  },
  {
   "cell_type": "code",
   "execution_count": 75,
   "metadata": {},
   "outputs": [
    {
     "name": "stdout",
     "output_type": "stream",
     "text": [
      "338 ../graphs/DESeq2_output/elev0_vs_elev2_indiv/DEGlist.txt\n"
     ]
    }
   ],
   "source": [
    "# Check length of original DEG list file\n",
    "!wc -l ../graphs/DESeq2_output/elev0_vs_elev2_indiv/DEGlist.txt"
   ]
  },
  {
   "cell_type": "code",
   "execution_count": 76,
   "metadata": {},
   "outputs": [
    {
     "name": "stdout",
     "output_type": "stream",
     "text": [
      "338\n"
     ]
    }
   ],
   "source": [
    "# See how many FASTA sequences we have\n",
    "!grep -c \">\" ../output/BLASTn/alveolata/elev0_vs_elev2_indiv_DEGs.fasta"
   ]
  },
  {
   "cell_type": "code",
   "execution_count": 77,
   "metadata": {},
   "outputs": [],
   "source": [
    "# Looks good! Remove temporary file\n",
    "!rm ../output/BLASTn/tempids.txt"
   ]
  },
  {
   "cell_type": "code",
   "execution_count": 101,
   "metadata": {},
   "outputs": [
    {
     "name": "stdout",
     "output_type": "stream",
     "text": [
      "Warning: [blastn] Examining 5 or more matches is recommended\n"
     ]
    }
   ],
   "source": [
    "# Blast all DEG sequences against our database of Alveolata sequences\n",
    "!blastn \\\n",
    "-task=\"blastn\" \\\n",
    "-query ../output/BLASTn/alveolata/elev0_vs_elev2_indiv_DEGs.fasta \\\n",
    "-db ../data/blast_db/alveolata_nucleotides_2021_02_22/alveolata_uniprot_2021_02 \\\n",
    "-out ../output/BLASTn/alveolata/elev0_vs_elev2.tab \\\n",
    "-max_target_seqs 1 \\\n",
    "-outfmt 6 \\\n",
    "-num_threads 4"
   ]
  },
  {
   "cell_type": "code",
   "execution_count": 86,
   "metadata": {},
   "outputs": [
    {
     "name": "stdout",
     "output_type": "stream",
     "text": [
      "1 ../output/BLASTn/alveolata/elev0_vs_elev2.tab\n"
     ]
    }
   ],
   "source": [
    "# See how many matches we got \n",
    "!wc -l ../output/BLASTn/alveolata/elev0_vs_elev2.tab"
   ]
  },
  {
   "cell_type": "code",
   "execution_count": 87,
   "metadata": {},
   "outputs": [
    {
     "name": "stdout",
     "output_type": "stream",
     "text": [
      "TRINITY_DN118828_c0_g1_i2\tHBGB01029743.1_cds_1\t87.500\t56\t7\t0\t353\t408\t316\t371\t1.08e-08\t65.8\n"
     ]
    }
   ],
   "source": [
    "# Look at that match\n",
    "!cat ../output/BLASTn/alveolata/elev0_vs_elev2.tab"
   ]
  },
  {
   "cell_type": "markdown",
   "metadata": {},
   "source": [
    "# BREAK: EXPERIMENTAL STUFF STARTING HERE\n"
   ]
  },
  {
   "cell_type": "code",
   "execution_count": 91,
   "metadata": {},
   "outputs": [
    {
     "name": "stdout",
     "output_type": "stream",
     "text": [
      "295 ../output/TPM_counts/amb2_vs_elev2_DEG_TPMs.txt\n"
     ]
    }
   ],
   "source": [
    "# See if we have any matches that correspond to genes\n",
    "!wc -l ../output/TPM_counts/amb2_vs_elev2_DEG_TPMs.txt"
   ]
  },
  {
   "cell_type": "code",
   "execution_count": 90,
   "metadata": {},
   "outputs": [],
   "source": [
    "# Get gene ID and TPM counts for our single elevated day 0 vs elevated day 2 hemat gene\n",
    "!grep TRINITY_DN118828_c0_g1_i2 ../output/TPM_counts/elev0_vs_elev2_DEG_TPMs.txt"
   ]
  },
  {
   "cell_type": "code",
   "execution_count": 93,
   "metadata": {},
   "outputs": [
    {
     "name": "stdout",
     "output_type": "stream",
     "text": [
      "147454 ../data/cbai_hemat_diamond_blastx_table_transcriptome_v2.0.txt\n"
     ]
    }
   ],
   "source": [
    "!wc -l ../data/cbai_hemat_diamond_blastx_table_transcriptome_v2.0.txt"
   ]
  },
  {
   "cell_type": "code",
   "execution_count": 99,
   "metadata": {},
   "outputs": [],
   "source": [
    "!grep TRINITY_DN118828 ../data/cbai_hemat_diamond_blastx_table_transcriptome_v2.0.txt"
   ]
  }
 ],
 "metadata": {
  "kernelspec": {
   "display_name": "Python 3",
   "language": "python",
   "name": "python3"
  },
  "language_info": {
   "codemirror_mode": {
    "name": "ipython",
    "version": 3
   },
   "file_extension": ".py",
   "mimetype": "text/x-python",
   "name": "python",
   "nbconvert_exporter": "python",
   "pygments_lexer": "ipython3",
   "version": "3.8.3"
  }
 },
 "nbformat": 4,
 "nbformat_minor": 4
}
